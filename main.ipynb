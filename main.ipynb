{
 "cells": [
  {
   "cell_type": "markdown",
   "metadata": {},
   "source": [
    "**Madrid pollution data extraction and cleaning**\n",
    "\n",
    "Goal:\n",
    "This project goal is to extract public data information about pollution in Madrid, clean it and add data that makes sense if there are missing values, using Python programming language. The source is this Madrid council webpage. We will download data for 2018. This data is real time hourly data. In this case we will just keep the NO2 agent.\n",
    "\n",
    "Steps:\n",
    "In this Jupyter Notebook the next steps are taken:\n",
    "\n",
    "Downloading the data (2018 real time data url), which comes in a zip folder with a file for each month in 3 different formats (.txt, .csv and .xml). In this case we will use the .csv extension files.\n",
    "\n",
    "Extracting just the .csv files from the zip folder.\n",
    "\n",
    "Adding records for missing days.\n",
    "\n",
    "Transforming the monthly dataframe, as the default format is not good to work with. There is a row for each day, with a column for each hour in the day, and another column for each hour to tell if that value is validated or not. In the transformed dataframe, we will have a column for hours and another one to indicate if that record is validated or not.\n",
    "\n",
    "Filling non validated hour values. We assign the average of the previous validated value and the next validated value.\n",
    "\n",
    "Adding columns for year-month-date and year-month-date-time.\n",
    "\n",
    "Finally we append all the monthly files together to have a yearly file.\n",
    "\n",
    "Some tests to check if the transformation has been satisfactory.\n",
    "\n",
    "Some data exploration.\n",
    "\n",
    "Some charts to see visualized data."
   ]
  },
  {
   "cell_type": "code",
   "execution_count": null,
   "metadata": {},
   "outputs": [],
   "source": []
  }
 ],
 "metadata": {
  "kernelspec": {
   "display_name": "Python 3",
   "language": "python",
   "name": "python3"
  },
  "language_info": {
   "codemirror_mode": {
    "name": "ipython",
    "version": 3
   },
   "file_extension": ".py",
   "mimetype": "text/x-python",
   "name": "python",
   "nbconvert_exporter": "python",
   "pygments_lexer": "ipython3",
   "version": "3.7.5"
  }
 },
 "nbformat": 4,
 "nbformat_minor": 2
}
